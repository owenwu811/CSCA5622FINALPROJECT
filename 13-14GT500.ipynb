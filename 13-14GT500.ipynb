{
 "cells": [
  {
   "cell_type": "code",
   "execution_count": 2,
   "metadata": {},
   "outputs": [
    {
     "name": "stdout",
     "output_type": "stream",
     "text": [
      "Requirement already satisfied: requests in ./venv/lib/python3.8/site-packages (2.32.3)\n",
      "Requirement already satisfied: urllib3 in ./venv/lib/python3.8/site-packages (2.2.3)\n",
      "Requirement already satisfied: beautifulsoup4 in ./venv/lib/python3.8/site-packages (4.13.4)\n",
      "Requirement already satisfied: pandas in ./venv/lib/python3.8/site-packages (2.0.3)\n",
      "Requirement already satisfied: matplotlib in ./venv/lib/python3.8/site-packages (3.7.5)\n",
      "Requirement already satisfied: seaborn in ./venv/lib/python3.8/site-packages (0.13.2)\n",
      "Requirement already satisfied: charset-normalizer<4,>=2 in ./venv/lib/python3.8/site-packages (from requests) (3.4.1)\n",
      "Requirement already satisfied: idna<4,>=2.5 in ./venv/lib/python3.8/site-packages (from requests) (3.10)\n",
      "Requirement already satisfied: certifi>=2017.4.17 in ./venv/lib/python3.8/site-packages (from requests) (2025.4.26)\n",
      "Requirement already satisfied: typing-extensions>=4.0.0 in ./venv/lib/python3.8/site-packages (from beautifulsoup4) (4.13.2)\n",
      "Requirement already satisfied: soupsieve>1.2 in ./venv/lib/python3.8/site-packages (from beautifulsoup4) (2.7)\n",
      "Requirement already satisfied: tzdata>=2022.1 in ./venv/lib/python3.8/site-packages (from pandas) (2025.2)\n",
      "Requirement already satisfied: pytz>=2020.1 in ./venv/lib/python3.8/site-packages (from pandas) (2025.2)\n",
      "Requirement already satisfied: python-dateutil>=2.8.2 in ./venv/lib/python3.8/site-packages (from pandas) (2.9.0.post0)\n",
      "Requirement already satisfied: numpy>=1.20.3 in ./venv/lib/python3.8/site-packages (from pandas) (1.24.4)\n",
      "Requirement already satisfied: packaging>=20.0 in ./venv/lib/python3.8/site-packages (from matplotlib) (25.0)\n",
      "Requirement already satisfied: pillow>=6.2.0 in ./venv/lib/python3.8/site-packages (from matplotlib) (10.4.0)\n",
      "Requirement already satisfied: kiwisolver>=1.0.1 in ./venv/lib/python3.8/site-packages (from matplotlib) (1.4.7)\n",
      "Requirement already satisfied: contourpy>=1.0.1 in ./venv/lib/python3.8/site-packages (from matplotlib) (1.1.1)\n",
      "Requirement already satisfied: fonttools>=4.22.0 in ./venv/lib/python3.8/site-packages (from matplotlib) (4.57.0)\n",
      "Requirement already satisfied: cycler>=0.10 in ./venv/lib/python3.8/site-packages (from matplotlib) (0.12.1)\n",
      "Requirement already satisfied: pyparsing>=2.3.1 in ./venv/lib/python3.8/site-packages (from matplotlib) (3.1.4)\n",
      "Requirement already satisfied: importlib-resources>=3.2.0 in ./venv/lib/python3.8/site-packages (from matplotlib) (6.4.5)\n",
      "Requirement already satisfied: zipp>=3.1.0 in ./venv/lib/python3.8/site-packages (from importlib-resources>=3.2.0->matplotlib) (3.20.2)\n",
      "Requirement already satisfied: six>=1.5 in ./venv/lib/python3.8/site-packages (from python-dateutil>=2.8.2->pandas) (1.17.0)\n",
      "\u001b[33mWARNING: You are using pip version 22.0.4; however, version 25.0.1 is available.\n",
      "You should consider upgrading via the '/Users/owenwu/CSCA5622finalproject/venv/bin/python -m pip install --upgrade pip' command.\u001b[0m\u001b[33m\n",
      "\u001b[0mNote: you may need to restart the kernel to use updated packages.\n"
     ]
    }
   ],
   "source": [
    "%pip install requests urllib3 beautifulsoup4 pandas matplotlib seaborn \n",
    "import time, requests, urllib3\n",
    "from bs4 import BeautifulSoup\n",
    "import pandas as pd\n",
    "import matplotlib.pyplot as plt\n",
    "import seaborn as sns \n",
    "import re\n",
    "urllib3.disable_warnings(urllib3.exceptions.InsecureRequestWarning)"
   ]
  },
  {
   "cell_type": "code",
   "execution_count": 4,
   "metadata": {},
   "outputs": [
    {
     "name": "stdout",
     "output_type": "stream",
     "text": [
      "41 total GT500s found\n"
     ]
    }
   ],
   "source": [
    "ans = dict()\n",
    "urls = [\"https://www.carfax.com/Used-2013-Ford-Mustang-Shelby-GT500_x15008\", \"https://www.carfax.com/Used-2014-Ford-Mustang-Shelby-GT500_x16415\"]\n",
    "headers = {\n",
    "    'User-Agent': 'Mozilla/5.0 (Windows NT 10.0; Win64; x64) AppleWebKit/537.36 (KHTML, like Gecko) Chrome/91.0.4472.124 Safari/537.36'\n",
    "}\n",
    "\n",
    "for website in urls:\n",
    "    response = requests.get(website, headers=headers, timeout=(120, 300), verify=False)\n",
    "    soup = BeautifulSoup(response.content, 'html.parser')\n",
    "    results = soup.find_all('div', {'class': 'srp-list-item__info-container'})\n",
    "\n",
    "    for result in results:\n",
    "        try:\n",
    "            carname = result.find('header').get_text()\n",
    "            specs = result.find('div', {'class': 'srp-list-item__basic-info'}).get_text()\n",
    "            price = result.find('div', {'class': 'srp-list-item__price srp-list-item__section'}).get_text()\n",
    "        except Exception as e:\n",
    "            carname, specs, price = 'n/a', 'n/a', 'n/a'\n",
    "        \n",
    "        ans[(carname, specs, price)] = \"a\"\n",
    "\n",
    "print(len(ans), \"total GT500s found\")"
   ]
  },
  {
   "cell_type": "code",
   "execution_count": 5,
   "metadata": {},
   "outputs": [
    {
     "name": "stdout",
     "output_type": "stream",
     "text": [
      "('Used 2013 Ford Mustang Shelby GT500 Coupe', 'Mileage: 77,912 miles MPG: 15 city / 24 hwyColor: Red Body Style: Coupe Engine: 8 Cyl 5.8 L Transmission: Manual ', 'Price: $39,900')\n",
      "('Used 2013 Ford Mustang Shelby GT500 Coupe', 'Mileage: 32,200 miles MPG: 15 city / 24 hwyColor: Blue Body Style: Coupe Engine: 8 Cyl 5.8 L Transmission: Manual ', 'Price: $52,995')\n",
      "('Used 2013 Ford Mustang Shelby GT500 Coupe', 'Mileage: 58,846 miles MPG: 15 city / 24 hwyColor: Black Body Style: Coupe Engine: 8 Cyl 5.8 L Transmission: Manual ', 'Price: $43,995')\n",
      "('Used 2013 Ford Mustang Shelby GT500 Coupe', 'Mileage: 28,613 miles MPG: 15 city / 24 hwyColor: Black Body Style: Coupe Engine: 8 Cyl 5.8 L Transmission: Manual ', 'Price: $51,900')\n",
      "('Used 2013 Ford Mustang Shelby GT500 Coupe', 'Mileage: 4,717 miles MPG: 15 city / 24 hwyColor: White Body Style: Coupe Engine: 8 Cyl 5.8 L Transmission: Manual ', 'Price: $57,995')\n",
      "('Used 2013 Ford Mustang Shelby GT500 Coupe', 'Mileage: 15,162 miles MPG: 15 city / 24 hwyColor: Blue Body Style: Coupe Engine: 8 Cyl 5.8 L Transmission: Manual ', 'Price: $58,900')\n",
      "('Used 2013 Ford Mustang Shelby GT500 Coupe', 'Mileage: 22,600 miles MPG: 15 city / 24 hwyColor: White Body Style: Coupe Engine: 8 Cyl 5.8 L Transmission: Manual ', 'Price: $54,898')\n",
      "('Used 2013 Ford Mustang Shelby GT500 Coupe', 'Mileage: 19,001 miles MPG: 15 city / 24 hwyColor: White Body Style: Coupe Engine: 8 Cyl 5.8 L Transmission: Manual ', 'Price: $58,900')\n",
      "('Used 2013 Ford Mustang Shelby GT500 Coupe', 'Mileage: 26,799 miles MPG: 15 city / 24 hwyColor: White Body Style: Coupe Engine: 8 Cyl 5.8 L Transmission: Manual ', 'Price: $55,999')\n",
      "('Used 2013 Ford Mustang Shelby GT500 Coupe', 'Mileage: 1,611 miles MPG: 15 city / 24 hwyColor: Silver Body Style: Coupe Engine: 8 Cyl 5.8 L Transmission: Manual ', 'Price: $66,581')\n",
      "('Used 2013 Ford Mustang Shelby GT500 Coupe', 'Mileage: 63,000 miles MPG: 15 city / 24 hwyColor: Blue Body Style: Coupe Engine: 8 Cyl 5.8 L Transmission: Manual ', 'Price: $46,999')\n",
      "('Used 2013 Ford Mustang Shelby GT500 Coupe', 'Mileage: 5,813 miles MPG: 15 city / 24 hwyColor: Black Body Style: Coupe Engine: 8 Cyl 5.8 L Transmission: Manual ', 'Call for Price')\n",
      "('Used 2013 Ford Mustang Shelby GT500 Coupe', 'Mileage: 9,534 miles MPG: 15 city / 24 hwyColor: Blue Body Style: Coupe Engine: 8 Cyl 5.8 L Transmission: Manual ', 'Price: $66,000')\n",
      "('Used 2013 Ford Mustang Shelby GT500 Convertible', 'Mileage: 12,367 miles MPG: 15 city / 24 hwyColor: Black Body Style: Convertible Engine: 8 Cyl 5.8 L Transmission: Manual ', 'Call for Price')\n",
      "('Used 2013 Ford Mustang Shelby GT500 Coupe', 'Mileage: 23,447 miles MPG: 15 city / 24 hwyColor: Black Body Style: Coupe Engine: 8 Cyl 5.8 L Transmission: Manual ', 'Price: $63,500')\n",
      "('Used 2013 Ford Mustang Shelby GT500 Coupe', 'Mileage: 28,687 miles MPG: 15 city / 24 hwyColor: Black Body Style: Coupe Engine: 8 Cyl 5.8 L Transmission: Manual ', 'Price: $51,899')\n",
      "('Used 2014 Ford Mustang Shelby GT500 Coupe', 'Mileage: 93,181 miles MPG: 15 city / 24 hwyColor: White Body Style: Coupe Engine: 8 Cyl 5.8 L Transmission: Manual ', 'Price: $38,995')\n",
      "('Used 2014 Ford Mustang Shelby GT500 Coupe', 'Mileage: 4,793 miles MPG: 15 city / 24 hwyColor: Black Body Style: Coupe Engine: 8 Cyl 5.8 L Transmission: Manual ', 'Price: $62,995')\n",
      "('Used 2014 Ford Mustang Shelby GT500 Convertible', 'Mileage: 9,310 miles MPG: 15 city / 24 hwyColor: Black Body Style: Convertible Engine: 8 Cyl 5.8 L Transmission: Manual ', 'Price: $79,400')\n",
      "('Used 2014 Ford Mustang Shelby GT500 Coupe', 'Mileage: 41,037 miles MPG: 15 city / 24 hwyColor: Black Body Style: Coupe Engine: 8 Cyl 5.8 L Transmission: Manual ', 'Price: $53,999')\n",
      "('Used 2014 Ford Mustang Shelby GT500 Coupe', 'Mileage: 12,438 miles MPG: 15 city / 24 hwyColor: Black Body Style: Coupe Engine: 8 Cyl 5.8 L Transmission: Manual ', 'Price: $59,500')\n",
      "('Used 2014 Ford Mustang Shelby GT500 Coupe', 'Mileage: 55,059 miles MPG: 15 city / 24 hwyColor: Gray Body Style: Coupe Engine: 8 Cyl 5.8 L Transmission: Manual ', 'Price: $46,500')\n",
      "('Used 2014 Ford Mustang Shelby GT500 Coupe', 'Mileage: 56,885 miles MPG: 15 city / 24 hwyColor: Black Body Style: Coupe Engine: 8 Cyl 5.8 L Transmission: Manual ', 'Price: $47,990')\n",
      "('Used 2014 Ford Mustang Shelby GT500 Coupe', 'Mileage: 20,611 miles MPG: 15 city / 24 hwyColor: Blue Body Style: Coupe Engine: 8 Cyl 5.8 L Transmission: Manual ', 'Price: $59,995')\n",
      "('Used 2014 Ford Mustang Shelby GT500 Coupe', 'Mileage: 4,113 miles MPG: 15 city / 24 hwyColor: Black Body Style: Coupe Engine: 8 Cyl 5.8 L Transmission: Manual ', 'Price: $63,999')\n",
      "('Used 2014 Ford Mustang Shelby GT500 Coupe', 'Mileage: 705 miles MPG: 15 city / 24 hwyColor: White Body Style: Coupe Engine: 8 Cyl 5.8 L Transmission: Manual ', 'Price: $79,950')\n",
      "('Used 2014 Ford Mustang Shelby GT500 Coupe', 'Mileage: 20,425 miles MPG: 15 city / 24 hwyColor: Red Body Style: Coupe Engine: 8 Cyl 5.8 L Transmission: Manual ', 'Price: $59,900')\n",
      "('Used 2014 Ford Mustang Shelby GT500 Coupe', 'Mileage: 24,010 miles MPG: 15 city / 24 hwyBody Style: Coupe Engine: 8 Cyl 5.8 L Transmission: Manual ', 'Price: $55,859')\n",
      "('Used 2014 Ford Mustang Shelby GT500 Coupe', 'Mileage: 9,481 miles MPG: 15 city / 24 hwyColor: Blue Body Style: Coupe Engine: 8 Cyl 5.8 L Transmission: Manual ', 'Price: $67,881')\n",
      "('Used 2014 Ford Mustang Shelby GT500 Coupe', 'Mileage: 64,978 miles MPG: 15 city / 24 hwyColor: Red Body Style: Coupe Engine: 8 Cyl 5.8 L Transmission: Manual ', 'Price: $46,620')\n",
      "('Used 2014 Ford Mustang Shelby GT500 Coupe', 'Mileage: 10,383 miles MPG: 15 city / 24 hwyColor: Blue Body Style: Coupe Engine: 8 Cyl 5.8 L Transmission: Manual ', 'Price: $69,995')\n",
      "('Used 2014 Ford Mustang Shelby GT500 Coupe', 'Mileage: 10,117 miles MPG: 15 city / 24 hwyColor: Gray Body Style: Coupe Engine: 8 Cyl 5.8 L Transmission: Manual ', 'Price: $64,900')\n",
      "('Used 2014 Ford Mustang Shelby GT500 Convertible', 'Mileage: 4,150 miles MPG: 15 city / 24 hwyColor: Black Body Style: Convertible Engine: 8 Cyl 5.8 L Transmission: Manual ', 'Price: $111,950')\n",
      "('Used 2014 Ford Mustang Shelby GT500 Coupe', 'Mileage: 7,697 miles MPG: 15 city / 24 hwyColor: White Body Style: Coupe Engine: 8 Cyl 5.8 L Transmission: Manual ', 'Price: $64,999')\n",
      "('Used 2014 Ford Mustang Shelby GT500 Coupe', 'Mileage: 17,801 miles MPG: 15 city / 24 hwyColor: Red Body Style: Coupe Engine: 8 Cyl 5.8 L Transmission: Manual ', 'Price: $69,995')\n",
      "('Used 2014 Ford Mustang Shelby GT500 Coupe', 'Mileage: 6,432 miles MPG: 15 city / 24 hwyColor: Gray Body Style: Coupe Engine: 8 Cyl 5.8 L Transmission: Manual ', 'Price: $66,495')\n",
      "('Used 2014 Ford Mustang Shelby GT500 Coupe', 'Mileage: 17,518 miles MPG: 15 city / 24 hwyColor: Black Body Style: Coupe Engine: 8 Cyl 5.8 L Transmission: Manual ', 'Price: $58,295')\n",
      "('Used 2014 Ford Mustang Shelby GT500 Coupe', 'Mileage: 6,123 miles MPG: 15 city / 24 hwyColor: Black Body Style: Coupe Engine: 8 Cyl 5.8 L Transmission: Manual ', 'Price: $74,900')\n",
      "('Used 2014 Ford Mustang Shelby GT500 Coupe', 'Mileage: 13,911 miles MPG: 15 city / 24 hwyColor: Gray Body Style: Coupe Engine: 8 Cyl 5.8 L Transmission: Manual ', 'Price: $64,490')\n",
      "('Used 2014 Ford Mustang Shelby GT500 Coupe', 'Mileage: 23,163 miles MPG: 15 city / 24 hwyColor: Black Body Style: Coupe Engine: 8 Cyl 5.8 L Transmission: Manual ', 'Price: $57,990')\n",
      "('Used 2014 Ford Mustang Shelby GT500 Coupe', 'Mileage: 1,551 miles MPG: 15 city / 24 hwyColor: Gray Body Style: Coupe Engine: 8 Cyl 5.8 L Transmission: Manual ', 'Price: $68,991')\n"
     ]
    }
   ],
   "source": [
    "for a in ans:\n",
    "    print(a)"
   ]
  }
 ],
 "metadata": {
  "kernelspec": {
   "display_name": "venv",
   "language": "python",
   "name": "python3"
  },
  "language_info": {
   "codemirror_mode": {
    "name": "ipython",
    "version": 3
   },
   "file_extension": ".py",
   "mimetype": "text/x-python",
   "name": "python",
   "nbconvert_exporter": "python",
   "pygments_lexer": "ipython3",
   "version": "3.8.15"
  },
  "orig_nbformat": 4
 },
 "nbformat": 4,
 "nbformat_minor": 2
}
